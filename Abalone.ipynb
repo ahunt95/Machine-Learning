{
 "cells": [
  {
   "cell_type": "code",
   "execution_count": 1,
   "metadata": {},
   "outputs": [
    {
     "name": "stderr",
     "output_type": "stream",
     "text": [
      "Using TensorFlow backend.\n"
     ]
    }
   ],
   "source": [
    "from keras.models import Sequential\n",
    "from keras.layers import Dense\n",
    "import tensorflow\n",
    "import pandas as pd\n",
    "import numpy as np\n",
    "\n",
    "np.random.seed(42)"
   ]
  },
  {
   "cell_type": "code",
   "execution_count": 2,
   "metadata": {},
   "outputs": [],
   "source": [
    "# Import data\n",
    "df = pd.read_csv('abalone.data')"
   ]
  },
  {
   "cell_type": "code",
   "execution_count": 3,
   "metadata": {},
   "outputs": [],
   "source": [
    "# Make dummies for Sex variable\n",
    "df = pd.concat([df, pd.get_dummies(df['Sex'], prefix = 'Sex')], axis = 1)\n",
    "del df['Sex']"
   ]
  },
  {
   "cell_type": "code",
   "execution_count": 4,
   "metadata": {},
   "outputs": [],
   "source": [
    "# Split training and testing\n",
    "training = df.sample(frac = 9/10, axis = 0)\n",
    "testing = df.drop(training.index)\n",
    "\n",
    "training_out = training['Rings'].values\n",
    "training_in = training.values\n",
    "\n",
    "testing_out = testing['Rings'].values\n",
    "testing_in = testing.values"
   ]
  },
  {
   "cell_type": "code",
   "execution_count": 5,
   "metadata": {},
   "outputs": [],
   "source": [
    "# Build the model\n",
    "model = Sequential()\n",
    "model.add(Dense(12, input_dim=11, activation='relu'))\n",
    "model.add(Dense(8, activation='relu'))\n",
    "model.add(Dense(1, activation='linear'))"
   ]
  },
  {
   "cell_type": "code",
   "execution_count": 6,
   "metadata": {},
   "outputs": [],
   "source": [
    "# Compile\n",
    "model.compile(loss='mean_squared_error', optimizer='adam', metrics=['mae'])"
   ]
  },
  {
   "cell_type": "code",
   "execution_count": 8,
   "metadata": {},
   "outputs": [
    {
     "name": "stdout",
     "output_type": "stream",
     "text": [
      "Epoch 1/20\n",
      "3759/3759 [==============================] - 0s 118us/step - loss: 1.6868e-06 - mean_absolute_error: 5.9304e-04\n",
      "Epoch 2/20\n",
      "3759/3759 [==============================] - 0s 121us/step - loss: 1.1911e-07 - mean_absolute_error: 2.3612e-04\n",
      "Epoch 3/20\n",
      "3759/3759 [==============================] - 0s 117us/step - loss: 1.4830e-06 - mean_absolute_error: 7.4908e-04\n",
      "Epoch 4/20\n",
      "3759/3759 [==============================] - 0s 114us/step - loss: 6.2078e-05 - mean_absolute_error: 0.0026\n",
      "Epoch 5/20\n",
      "3759/3759 [==============================] - 0s 108us/step - loss: 1.8362e-05 - mean_absolute_error: 0.0020\n",
      "Epoch 6/20\n",
      "3759/3759 [==============================] - 0s 109us/step - loss: 7.5472e-07 - mean_absolute_error: 6.3227e-04\n",
      "Epoch 7/20\n",
      "3759/3759 [==============================] - 0s 122us/step - loss: 8.7193e-05 - mean_absolute_error: 0.0052\n",
      "Epoch 8/20\n",
      "3759/3759 [==============================] - 1s 149us/step - loss: 2.4560e-07 - mean_absolute_error: 3.2663e-04\n",
      "Epoch 9/20\n",
      "3759/3759 [==============================] - 1s 168us/step - loss: 3.6563e-05 - mean_absolute_error: 0.0035\n",
      "Epoch 10/20\n",
      "3759/3759 [==============================] - 0s 125us/step - loss: 1.2904e-05 - mean_absolute_error: 0.0018\n",
      "Epoch 11/20\n",
      "3759/3759 [==============================] - 0s 114us/step - loss: 6.8618e-05 - mean_absolute_error: 0.0035\n",
      "Epoch 12/20\n",
      "3759/3759 [==============================] - 0s 128us/step - loss: 9.0056e-05 - mean_absolute_error: 0.0051\n",
      "Epoch 13/20\n",
      "3759/3759 [==============================] - 0s 115us/step - loss: 3.4985e-06 - mean_absolute_error: 6.4336e-04\n",
      "Epoch 14/20\n",
      "3759/3759 [==============================] - 0s 129us/step - loss: 1.8829e-05 - mean_absolute_error: 0.0018\n",
      "Epoch 15/20\n",
      "3759/3759 [==============================] - 1s 154us/step - loss: 3.0578e-04 - mean_absolute_error: 0.0067\n",
      "Epoch 16/20\n",
      "3759/3759 [==============================] - 0s 122us/step - loss: 9.2650e-08 - mean_absolute_error: 1.9553e-04\n",
      "Epoch 17/20\n",
      "3759/3759 [==============================] - 0s 120us/step - loss: 4.7028e-08 - mean_absolute_error: 1.1613e-04\n",
      "Epoch 18/20\n",
      "3759/3759 [==============================] - 1s 134us/step - loss: 1.3698e-07 - mean_absolute_error: 2.1623e-04\n",
      "Epoch 19/20\n",
      "3759/3759 [==============================] - 0s 122us/step - loss: 1.6686e-05 - mean_absolute_error: 0.0010\n",
      "Epoch 20/20\n",
      "3759/3759 [==============================] - 0s 126us/step - loss: 2.0117e-04 - mean_absolute_error: 0.0053\n"
     ]
    },
    {
     "data": {
      "text/plain": [
       "<keras.callbacks.History at 0x7f63a9783320>"
      ]
     },
     "execution_count": 8,
     "metadata": {},
     "output_type": "execute_result"
    }
   ],
   "source": [
    "# Fit\n",
    "model.fit(training_in, training_out, epochs=20, batch_size=10)"
   ]
  },
  {
   "cell_type": "code",
   "execution_count": 10,
   "metadata": {},
   "outputs": [
    {
     "name": "stdout",
     "output_type": "stream",
     "text": [
      "418/418 [==============================] - 0s 39us/step\n",
      "\n",
      "mean_absolute_error: 0.02%\n"
     ]
    }
   ],
   "source": [
    "# Test MAE and print score\n",
    "scores = model.evaluate(testing_in, testing_out)\n",
    "print(\"\\n%s: %.2f%%\" % (model.metrics_names[1], scores[1]*100))"
   ]
  },
  {
   "cell_type": "code",
   "execution_count": null,
   "metadata": {},
   "outputs": [],
   "source": []
  }
 ],
 "metadata": {
  "kernelspec": {
   "display_name": "Python 3",
   "language": "python",
   "name": "python3"
  },
  "language_info": {
   "codemirror_mode": {
    "name": "ipython",
    "version": 3
   },
   "file_extension": ".py",
   "mimetype": "text/x-python",
   "name": "python",
   "nbconvert_exporter": "python",
   "pygments_lexer": "ipython3",
   "version": "3.6.3"
  }
 },
 "nbformat": 4,
 "nbformat_minor": 2
}
